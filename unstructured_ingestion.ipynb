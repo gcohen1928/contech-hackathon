{
 "cells": [
  {
   "cell_type": "code",
   "execution_count": 36,
   "metadata": {},
   "outputs": [
    {
     "data": {
      "text/plain": [
       "True"
      ]
     },
     "execution_count": 36,
     "metadata": {},
     "output_type": "execute_result"
    }
   ],
   "source": [
    "import dotenv\n",
    "\n",
    "dotenv.load_dotenv()"
   ]
  },
  {
   "cell_type": "code",
   "execution_count": 19,
   "metadata": {},
   "outputs": [],
   "source": [
    "# Convert PDFs to images\n",
    "import fitz  # PyMuPDF\n",
    "import os\n",
    "\n",
    "def convert_pdf_to_images(input_path: str, output_path: str):\n",
    "    # Open the PDF file\n",
    "    pdf_path = input_path\n",
    "    pdf_document = fitz.open(pdf_path)\n",
    "    \n",
    "    # Create output directory if it doesn't exist\n",
    "    output_dir = output_path\n",
    "    os.makedirs(output_dir, exist_ok=True)\n",
    "    \n",
    "    # Iterate through each page\n",
    "    for page_num in range(len(pdf_document)):\n",
    "        # Get the page\n",
    "        page = pdf_document[page_num]\n",
    "        \n",
    "        # Convert page to image\n",
    "        pix = page.get_pixmap()\n",
    "        \n",
    "        # Save image\n",
    "        image_path = f\"{output_dir}/page_{page_num + 1}.png\"\n",
    "        pix.save(image_path)\n",
    "    \n",
    "    pdf_document.close()\n",
    "\n",
    "for file_id in [\"M000093215.PDF\", \"M00093381B.PDF\", \"M000093520.PDF\", \"M00103924B.PDF\"]:\n",
    "    convert_pdf_to_images(f\"data/unstructured/{file_id}\", f\"data/images/{file_id}\")"
   ]
  },
  {
   "cell_type": "code",
   "execution_count": 53,
   "metadata": {},
   "outputs": [
    {
     "name": "stderr",
     "output_type": "stream",
     "text": [
      "\u001b[92m15:01:36 - LiteLLM:INFO\u001b[0m: utils.py:2850 - \n",
      "LiteLLM completion() model= gpt-4o; provider = openai\n",
      "INFO: \n",
      "LiteLLM completion() model= gpt-4o; provider = openai\n",
      "INFO: HTTP Request: POST https://api.openai.com/v1/chat/completions \"HTTP/1.1 200 OK\"\n",
      "\u001b[92m15:01:41 - LiteLLM:INFO\u001b[0m: utils.py:1030 - Wrapper: Completed Call, calling success_handler\n",
      "INFO: Wrapper: Completed Call, calling success_handler\n"
     ]
    },
    {
     "name": "stdout",
     "output_type": "stream",
     "text": [
      "- Borough: Manhattan\n",
      "- Date: Nov 29 1986\n",
      "- Zoning District: C6-6, 5\n",
      "- 57th Street Wing Cellar Live Load: O.G. \n",
      "- 57th Street Wing Cellar Persons: 260 \n",
      "- 57th Street Wing Cellar Cinema: 4 \n",
      "- 57th Street Wing Cellar Offices: 20 \n",
      "- 57th Street Wing Cellar: Elevator Machine Room, Gallery, Mechanical Room, Storage\n",
      "- Cellar Mezzanine: Mechanical Room, Office, Locker Room, Elevator Machine Room, Storage\n",
      "- 1st Floor Persons: 85 \n",
      "- 1st Floor Units: 1,021 \n",
      "- 1st Floor: Carnegie Concert Hall, Trap Room, Lobbies, Carnegie Hall Lounge and Bar\n",
      "- 2nd Floor Persons: 85 \n",
      "- 2nd Floor Units: 350 \n",
      "- 2nd Floor: 1st Tier Boxes of Carnegie Concert Hall, Recital Hall, Lounge and Dress Rooms\n",
      "- 3rd Floor Persons: 85 \n",
      "- 3rd Floor Units 1: 248 \n",
      "- 3rd Floor Units 2: 299 \n",
      "- 3rd Floor: 2nd Tier Boxes of Carnegie Concert Hall, Recital Hall\n",
      "- Balcony Persons: 85 \n",
      "- Balcony: Recital Hall Balcony\n",
      "- 4th Floor Persons: 85 \n",
      "- 4th Floor Units 1: 430 \n",
      "- 4th Floor Units 2: 16 \n",
      "- 4th Floor: Dress Circle of Carnegie Hall, Lounge\n",
      "- 5th Floor Persons: 85 \n",
      "- 5th Floor Units: 568 \n",
      "- 5th Floor: Balcony of Carnegie Concert Hall, Balcony Lobby\n"
     ]
    }
   ],
   "source": [
    "# Extract key value pairs from images\n",
    "import base64\n",
    "import glob\n",
    "import json\n",
    "\n",
    "from litellm import supports_vision, completion\n",
    "\n",
    "model = \"openai/gpt-4o\"\n",
    "assert supports_vision(model=model)\n",
    "\n",
    "def image_to_base64(input_path: str):\n",
    "    with open(input_path, \"rb\") as image_file:\n",
    "        return base64.b64encode(image_file.read()).decode(\"utf-8\")\n",
    "\n",
    "def extract_kv_pairs(input_path: str):\n",
    "    base64_image = image_to_base64(input_path)\n",
    "\n",
    "    image_query_response = completion(\n",
    "        model=model,\n",
    "        # response_format={\"type\": \"json_object\"},\n",
    "        messages=[\n",
    "            {\"role\": \"system\", \"content\": \"Extract a flat, 1-dimensional list of key value pairs from the following image\"},\n",
    "            {\"role\": \"system\", \"content\": \"Return the a markdown bulleted * key: value only\"},\n",
    "            # {\"role\": \"system\", \"content\": \"Example: {'pairs': [{'key': key, 'value': value}, {'key': key, 'value': value}]}\"},\n",
    "            {\n",
    "                \"role\": \"user\",\n",
    "                \"content\": [\n",
    "                    {\n",
    "                        \"type\": \"image_url\",\n",
    "                        \"image_url\": {\n",
    "                            \"url\": f\"data:image/jpeg;base64,{base64_image}\"\n",
    "                        }\n",
    "                    }\n",
    "                ]\n",
    "            }\n",
    "        ],\n",
    "    )\n",
    "\n",
    "    # return json.loads(image_query_response.choices[0].message.content)\n",
    "    return image_query_response.choices[0].message.content\n",
    "print(extract_kv_pairs(\"data/images/M000093215.PDF/page_1.png\"))\n"
   ]
  },
  {
   "cell_type": "code",
   "execution_count": 55,
   "metadata": {},
   "outputs": [
    {
     "name": "stderr",
     "output_type": "stream",
     "text": [
      "INFO: HTTP Request: POST https://api.cohere.ai/v1/embed \"HTTP/1.1 200 OK\"\n",
      "\u001b[92m15:07:18 - LiteLLM:INFO\u001b[0m: utils.py:1030 - Wrapper: Completed Call, calling success_handler\n",
      "INFO: Wrapper: Completed Call, calling success_handler\n"
     ]
    },
    {
     "name": "stdout",
     "output_type": "stream",
     "text": [
      "[-0.0059547424, -0.024276733, -0.025756836, -0.066223145, 0.0031604767, -0.013214111, -0.03704834, -0.01184082, 0.018325806, 0.010139465, 0.020645142, -0.011619568, -0.03515625, -0.04901123, -0.016159058, -0.026428223, 0.010688782, -0.0014753342, 0.006134033, 0.011054993, -0.032928467, -0.0070343018, 0.023727417, 0.024871826, 0.031951904, -0.018753052, -0.015716553, 0.0020503998, -0.01133728, -0.016815186, -0.0017433167, 0.07147217, 0.038970947, 0.003698349, -0.0034313202, -0.023132324, -0.014259338, 0.017700195, 0.011024475, 0.01260376, -0.012382507, 0.013633728, -0.040618896, -0.00831604, -0.09515381, -0.023269653, -0.058746338, 0.006828308, 0.026031494, 0.062927246, 0.02746582, 0.022216797, -0.014801025, 0.13769531, -0.0340271, -0.0059661865, -0.043029785, -0.0069885254, -0.022750854, 0.075927734, 0.047424316, 0.011009216, -0.00440979, 0.0007534027, -0.03363037, 0.033477783, -0.0093307495, 0.022583008, 0.059326172, -0.027664185, -0.046081543, 0.02456665, -0.0009889603, 0.004802704, -0.055633545, -0.022079468, 0.033294678, -0.05218506, -0.011550903, 0.017547607, -0.010231018, -0.011558533, -0.0395813, 0.021713257, -0.016815186, 0.018554688, -0.041809082, -0.011909485, 0.027069092, -0.0038890839, -0.022567749, 0.0032787323, -0.0032043457, 0.057525635, 0.009361267, 0.00058174133, -0.03982544, -0.011009216, -0.0073890686, 0.013694763, 0.037139893, -0.014526367, -0.0042686462, -0.02835083, 0.013534546, 0.08001709, 0.0005393028, -0.0061531067, 0.03125, 0.028869629, 0.036071777, -0.0009484291, -0.013595581, -0.03237915, -0.023040771, 0.02078247, 0.020202637, 0.022262573, 0.008621216, 0.028762817, -0.0043945312, 0.001958847, 0.010627747, -0.04058838, 0.004749298, -0.04257202, -0.032928467, 0.0033187866, 0.015350342, -0.0045318604, -0.0015983582, 0.041290283, -0.08099365, -0.046020508, -0.03366089, 0.038909912, 0.003276825, -0.005844116, 0.012138367, -0.004180908, -0.013465881, -0.031188965, 0.043670654, -0.004016876, -0.015541077, 0.0053710938, 0.036834717, -0.006778717, -0.049835205, 0.0049438477, -0.005519867, -0.0076828003, 0.06323242, 0.008346558, -0.0748291, 0.019577026, -0.0949707, 0.017471313, -0.033569336, -0.019927979, 0.025390625, 0.0052948, -0.040496826, -0.023651123, 0.018447876, -0.01890564, -0.02659607, 0.02130127, 0.02178955, 0.055877686, -0.018859863, 0.035125732, 0.0082473755, 0.010154724, -0.0104522705, 0.006477356, -0.00030183792, 0.0128479, 0.057281494, -0.012870789, -0.06439209, -0.06640625, 0.038513184, 0.02305603, -0.00995636, -0.038909912, -0.011360168, -0.013549805, 0.026275635, 0.024307251, -0.015525818, -0.003894806, -0.05255127, -0.037384033, 0.008399963, -0.062072754, 0.059753418, -0.017654419, 0.00038957596, 0.031311035, -0.030914307, -0.020629883, 0.022827148, 0.015533447, 0.051513672, -0.026519775, 0.015655518, 0.014816284, 0.017059326, 0.029434204, 0.028961182, 0.01600647, -0.03564453, -0.0063591003, -0.036193848, -0.021072388, 0.024963379, 0.07006836, 0.013511658, 0.06097412, -0.008666992, -0.012138367, -0.0079193115, 0.03842163, 0.007671356, 0.007282257, 0.0005044937, -0.023254395, 0.036499023, 0.04699707, 0.013664246, -0.072265625, 0.017120361, -0.0015068054, -0.036956787, -0.0007266998, -0.034729004, 0.025482178, -0.0054473877, 0.008842468, 0.027770996, -0.015007019, -0.026733398, 0.010688782, 0.027297974, -0.028778076, 0.0047035217, 0.0028152466, -0.01272583, 0.004638672, 0.037902832, 0.007335663, 0.04763794, 0.007019043, -0.04196167, 0.070373535, -0.002040863, 0.03213501, -0.014419556, 0.046295166, -0.029281616, 0.050872803, 0.02154541, -0.022323608, -0.014427185, -0.02130127, -0.012214661, 0.015022278, -0.021636963, -0.011077881, 0.058929443, 0.01626587, -0.013122559, 0.03164673, 0.011558533, -0.010231018, -0.049713135, -0.01689148, -0.012466431, -0.0047683716, 0.009552002, 0.055511475, -0.01586914, -0.02659607, 0.030258179, 0.009986877, -0.041137695, -0.008880615, -0.024215698, 0.019943237, 0.050689697, 0.025726318, -0.0013475418, 0.022659302, -0.015914917, 0.02229309, 0.094055176, 0.07348633, -0.01852417, 0.045654297, -0.018722534, 0.025268555, 0.020339966, -0.0062828064, 0.015289307, 0.034942627, -0.0050239563, 0.033966064, 0.014030457, -0.028533936, -0.006717682, 0.010261536, -0.017227173, -0.026000977, 0.02708435, -0.04928589, 0.019378662, -0.04144287, -0.02420044, 0.013305664, 0.04425049, -0.02923584, -0.047698975, -0.024154663, -0.0018930435, -0.010520935, -0.012664795, -0.028152466, -0.018920898, 0.021087646, 0.04650879, -0.0211792, 0.0021762848, -0.015991211, 0.006362915, -0.005088806, 0.0014734268, 0.0075683594, -0.013877869, 0.005584717, 0.033599854, -0.0017347336, 0.054351807, -0.024169922, -0.025863647, -0.032958984, -0.01789856, 0.048583984, -0.049987793, -0.012573242, 0.018218994, -0.0473938, -0.029830933, 0.050964355, 0.056365967, -0.021377563, -0.018447876, 0.074401855, 0.05593872, 0.00016212463, 0.009490967, -0.010185242, -0.01008606, -0.001455307, 0.027252197, -0.03338623, -0.012641907, -0.025100708, -0.044311523, 0.025848389, -0.045288086, -0.03704834, 0.03164673, -0.03765869, -0.046203613, 0.012954712, -0.015594482, -0.04397583, -0.01676941, -0.0368042, -0.044067383, -0.0026187897, -0.015289307, -0.021133423, 0.07836914, -0.012168884, -0.020477295, 0.0017490387, 0.028335571, 0.03213501, 0.004184723, -0.041900635, -0.027236938, -0.027664185, -0.011314392, -0.0053901672, -0.013702393, 0.017990112, -0.055145264, -0.024261475, 0.005882263, -0.034332275, -0.04067993, -0.01890564, -0.023468018, 0.00957489, 0.029724121, -0.03668213, 0.048706055, 0.082214355, -0.030731201, 0.056671143, -0.013320923, 0.016082764, -0.014984131, 0.013702393, -0.055267334, 0.00097608566, 0.013954163, -0.002954483, -0.020080566, -0.02368164, -0.014083862, 0.03692627, -0.03466797, -0.0066833496, -0.0049095154, 0.053009033, -0.006587982, -0.023971558, -0.019302368, -0.04135132, -0.042907715, -0.026351929, -0.05331421, -0.0062789917, 0.0065574646, 0.016860962, -0.0008325577, -0.009269714, -0.02519226, -0.011116028, 0.046691895, 0.019821167, 0.028533936, -0.015625, 0.019958496, -0.014564514, -0.04034424, -0.0011034012, 0.01184082, -0.007827759, -0.025558472, 0.036590576, -0.010856628, 0.062164307, 0.05960083, 0.028915405, 0.043914795, 0.018569946, 0.024734497, -0.0063552856, -0.004928589, -0.019638062, -0.0016956329, -0.018417358, 0.03491211, 0.0126953125, -0.00054836273, -0.0045928955, -0.003967285, 0.040893555, 0.019622803, -0.006893158, 0.047546387, 0.032409668, -0.038848877, 0.009643555, -0.0758667, 0.03817749, 0.008300781, 0.02420044, -0.003753662, -0.005332947, -0.027191162, 0.039276123, -0.078552246, -0.07141113, -0.0035743713, -0.00088071823, -0.048980713, 0.015098572, 0.04046631, -0.019851685, -0.023010254, -0.001376152, -0.009933472, -0.0519104, 0.017730713, 0.020309448, -0.044311523, 0.009590149, 0.004550934, 0.022888184, 0.0046539307, 0.021743774, 0.03479004, 0.016296387, 0.022781372, 0.011672974, 0.003314972, -0.0036735535, -0.0024604797, 0.00447464, -0.00819397, 0.05230713, -0.04159546, 0.011459351, -0.033996582, 0.005332947, 0.021194458, -0.034606934, 0.03414917, 0.0058403015, -0.018676758, 0.031234741, -0.020904541, 0.03060913, -0.026626587, 0.014816284, -0.047973633, 0.0021591187, 0.038391113, -0.00074481964, 0.053466797, -0.0009994507, -0.012039185, 0.02355957, 0.014472961, -0.013519287, -0.0050582886, -0.01689148, 0.009315491, 0.004486084, 0.0009946823, 0.007888794, 0.068847656, 0.0647583, 0.015625, 0.011703491, -0.022872925, 0.0064468384, -0.006061554, -0.006904602, -0.05380249, -0.061798096, -0.023742676, -0.0018644333, -0.018493652, 0.058135986, 0.026947021, -0.02255249, -0.013832092, 0.0026721954, 0.0184021, -0.006149292, -0.011695862, -0.044799805, 0.029541016, -0.012275696, -0.09033203, -0.04449463, 0.040039062, -0.06365967, -0.03164673, -0.012840271, -0.0077667236, 0.039978027, -0.009887695, 0.0335083, -0.024490356, 0.031585693, -0.045074463, 0.027160645, -0.04107666, -0.03338623, 0.023468018, -0.004852295, -0.013008118, -0.050048828, 0.02709961, -0.030151367, -0.01373291, -0.028579712, 0.016189575, 0.027267456, 0.09515381, 0.004623413, -0.011940002, -0.0037841797, 0.019134521, 0.014823914, -0.008628845, 0.015731812, -0.054351807, 0.041229248, 0.044952393, 0.01524353, 0.008934021, 0.030090332, 0.012382507, -0.031677246, 0.06854248, -0.018447876, 0.040161133, 0.019134521, 0.0065345764, -0.016159058, 0.022964478, -0.013473511, 0.013298035, 0.026535034, -0.001121521, -0.013130188, 0.02746582, -0.010757446, 0.018737793, 0.015640259, -0.04486084, 0.00497818, 0.0059394836, 0.013931274, -0.044281006, -0.054473877, -0.007331848, 0.055236816, -0.05758667, -0.027923584, -0.010650635, 0.03540039, 0.022766113, 0.04220581, 0.041625977, -0.03475952, -0.013389587, -0.036254883, -0.016937256, -0.017959595, -0.026931763, 0.009048462, -0.011642456, 0.015060425, -0.043182373, -0.0020771027, -0.01134491, 0.010673523, 0.015159607, 0.046875, -0.017120361, -0.081726074, -0.03616333, -0.0345459, -0.015090942, -0.024856567, -0.014778137, 0.00459671, 0.05340576, 0.06036377, -0.030548096, -0.0015907288, 0.009399414, 0.022262573, -0.022949219, 0.014221191, 0.038757324, -0.015853882, 0.031707764, 0.0024108887, -0.034423828, -0.03842163, 0.026275635, 0.009498596, -0.013626099, 0.0067443848, -0.015670776, 0.04043579, 0.0010929108, -0.0040626526, 7.247925e-05, -0.0107803345, -0.052734375, -0.015510559, 0.00015473366, -0.055786133, 0.0075531006, 0.006702423, -0.048828125, -0.041412354, 0.020370483, 0.012542725, -0.0014371872, 0.0017080307, -0.009521484, -0.0446167, 0.0063171387, -0.022583008, -0.035949707, -0.0013589859, -0.008270264, 0.024246216, 0.00944519, -0.0045700073, -0.030319214, -0.005054474, -0.044525146, -0.060272217, 0.0051612854, 0.010124207, 0.0060768127, 0.040008545, -0.021347046, -0.020355225, -0.0057411194, -0.025558472, 0.04623413, -0.028640747, -0.054840088, 0.007598877, 0.012428284, -0.026794434, 0.026046753, -0.019470215, -0.0035934448, -0.006954193, -0.006549835, -0.031677246, 0.009086609, -0.0058937073, -0.0034503937, 0.011650085, -0.09875488, 0.04309082, 0.0121536255, 0.0368042, -0.01309967, 0.026123047, -0.0023212433, 0.05102539, -0.027297974, -0.0025863647, -0.0009150505, 0.012428284, -0.010665894, 0.033233643, -0.0016708374, -0.008720398, 0.045135498, 0.0013942719, -0.034332275, -0.025604248, -0.08062744, -0.0262146, -0.0121154785, 0.010765076, 0.01625061, 0.05731201, -0.021530151, -0.00035738945, 0.028808594, -0.04232788, 0.042663574, -0.011947632, -0.0013275146, -0.014633179, 0.018081665, 0.011917114, -0.011985779, 0.003124237, -0.02986145, 0.018951416, 0.030975342, 0.008216858, -0.0069847107, 0.002204895, -0.0010099411, -0.034484863, 0.054656982, -0.000115036964, -0.0039787292, 0.021484375, -0.018203735, 0.022384644, -0.010925293, 0.007789612, 0.0017557144, 0.023895264, 0.024902344, -0.004676819, 0.06378174, 7.200241e-05, 0.020187378, -0.017868042, -0.04296875, -0.013473511, -0.049560547, -0.049865723, -0.048980713, 0.0446167, -9.2446804e-05, -0.019104004, 0.023147583, -0.042114258, -0.060699463, 0.012718201, -0.034423828, 0.030899048, 0.024749756, 0.016174316, 0.02267456, 0.003873825, -0.022140503, 0.051574707, -0.033325195, 0.025863647, -0.026504517, 0.027954102, -0.019470215, 0.024765015, -0.015396118, -0.009552002, 0.024230957, -0.050567627, 0.04144287, 0.0027713776, 0.057556152, 0.033355713, 0.007850647, 0.020721436, -0.04699707, -0.005744934, -0.027389526, -0.015808105, 0.013076782, 0.042877197, -0.07348633, 0.034606934, -0.036010742, -0.027450562, 0.0040664673, 0.01424408, 0.01247406, -0.04220581, -0.06964111, -0.029953003, 0.036315918, 0.053588867, 0.05895996, -0.030014038, -0.0074386597, 0.025100708, 0.05380249, 0.0126571655, 0.026153564, -0.008117676, 0.04849243, -0.028564453, -0.013877869, -0.013587952, -0.030426025, -0.015487671, 0.02368164, -0.02760315, 0.055114746, 0.007522583, -0.03201294, 0.05722046, 0.011650085, -0.046844482, -0.0034103394, 0.042236328, 0.002609253, 0.016845703, 0.053771973, 0.042144775, -0.002746582, -0.03302002, -0.036468506, 0.01222229, 0.049468994, 0.00121212, 0.05105591, -0.035858154, -0.009231567, 0.041137695, 0.0073890686, 0.022628784, -0.008216858, -0.0025348663, -0.014060974, -0.019332886, 0.03414917, 0.010871887, -0.010253906, 0.010803223, 0.0129470825, -0.014129639, -0.008110046, -0.055023193, -0.035064697, 0.0035152435, 0.07952881, -0.0030670166, -0.027130127, -0.048065186, -0.010910034, -0.070129395, -0.08135986, -0.021697998, -0.010276794, 0.0022239685, -0.034606934, -0.018478394, -0.011398315, -0.0140686035, -0.051605225, -0.0050086975, -0.046020508, -0.055023193, -0.04336548, 0.0074920654, -0.0070610046, -0.03768921, 0.012535095, -0.066223145, 0.034332275, -0.036071777, 0.013923645, -0.008255005, -0.031402588, 0.017913818, -0.0070266724, -0.015640259, 0.020202637, 0.030944824, -0.0033416748, 0.03010559, 0.04196167, -0.031463623, 0.0127334595, -0.0051498413, 0.039733887, -0.02519226, -0.011833191, -0.0035572052, 0.037322998, -0.012825012, -0.06112671, -0.011367798, -0.008888245, 0.03656006, 0.011138916, 0.012794495, 0.021362305, 0.014007568, -0.011482239, 0.048461914, 0.010513306, -0.086364746, -0.067993164, -0.0262146, 0.061950684, 0.02279663, -0.0051879883, -0.04159546, 0.026489258, 0.005558014, -0.0026187897, 0.023208618, -0.0068244934, 0.0020160675, -0.0078086853, 0.04534912, -0.030471802, 0.010276794, -0.010238647, 0.010978699, -0.025024414, -0.02885437, 0.0063438416, -0.00687027, 0.003293991, 0.05255127, -0.006263733, -0.0569458, 0.025985718, 0.015182495, -0.002325058, 0.026748657, -0.036102295, 0.018981934, 0.01687622, -0.01876831, -0.018753052, -0.003238678, 0.014320374, -0.034057617, -0.050476074, -0.0064697266, -0.07775879, 0.03149414, -0.06604004, 0.08532715, -0.031921387, 0.012741089, 0.04071045, -0.031463623, 0.006526947, -0.00033068657, 0.01209259, -0.05053711, -0.010673523, -0.05722046, 0.01928711, 0.031234741]\n"
     ]
    }
   ],
   "source": [
    "from litellm import embedding\n",
    "\n",
    "def get_image_embedding(input_path: str):\n",
    "    with open(input_path, \"rb\") as image_file:\n",
    "        response = embedding(model=\"cohere/embed-english-v3.0\", input=[image_to_base64(input_path)])\n",
    "\n",
    "    return response.data[0][\"embedding\"]\n",
    "\n",
    "print(get_image_embedding(\"data/images/M000093215.PDF/page_1.png\"))\n"
   ]
  },
  {
   "cell_type": "code",
   "execution_count": 59,
   "metadata": {},
   "outputs": [
    {
     "data": {
      "text/plain": [
       "{'created_at': 1737835828,\n",
       " 'default_sorting_field': '',\n",
       " 'enable_nested_fields': True,\n",
       " 'fields': [{'facet': False,\n",
       "   'index': True,\n",
       "   'infix': False,\n",
       "   'locale': '',\n",
       "   'name': 'source_filename',\n",
       "   'optional': False,\n",
       "   'sort': False,\n",
       "   'stem': False,\n",
       "   'store': True,\n",
       "   'type': 'string'},\n",
       "  {'facet': False,\n",
       "   'index': True,\n",
       "   'infix': False,\n",
       "   'locale': '',\n",
       "   'name': 'page_number',\n",
       "   'optional': False,\n",
       "   'sort': True,\n",
       "   'stem': False,\n",
       "   'store': True,\n",
       "   'type': 'int32'},\n",
       "  {'facet': False,\n",
       "   'index': True,\n",
       "   'infix': False,\n",
       "   'locale': '',\n",
       "   'name': 'content',\n",
       "   'optional': False,\n",
       "   'sort': False,\n",
       "   'stem': False,\n",
       "   'store': True,\n",
       "   'type': 'string'},\n",
       "  {'facet': False,\n",
       "   'hnsw_params': {'M': 16, 'ef_construction': 200},\n",
       "   'index': True,\n",
       "   'infix': False,\n",
       "   'locale': '',\n",
       "   'name': 'embedding',\n",
       "   'num_dim': 1024,\n",
       "   'optional': False,\n",
       "   'sort': False,\n",
       "   'stem': False,\n",
       "   'store': True,\n",
       "   'type': 'float[]',\n",
       "   'vec_dist': 'cosine'}],\n",
       " 'name': 'pdfs',\n",
       " 'num_documents': 0,\n",
       " 'symbols_to_index': [],\n",
       " 'token_separators': []}"
      ]
     },
     "execution_count": 59,
     "metadata": {},
     "output_type": "execute_result"
    }
   ],
   "source": [
    "# Create Typesense schema\n",
    "import typesense\n",
    "\n",
    "typesense_client = typesense.Client(\n",
    "    {\n",
    "        \"nodes\": [\n",
    "            {\n",
    "                \"host\": \"localhost\",\n",
    "                \"port\": \"8108\",\n",
    "                \"protocol\": \"http\",\n",
    "            }\n",
    "        ],\n",
    "        \"api_key\": \"admin\",\n",
    "        \"connection_timeout_seconds\": 2,\n",
    "    }\n",
    ")\n",
    "\n",
    "schema = {\n",
    "    \"name\": \"pdfs\",\n",
    "    \"fields\": [\n",
    "        {\"name\": \"source_filename\", \"type\": \"string\"},\n",
    "        {\"name\": \"page_number\", \"type\": \"int32\"},\n",
    "        {\"name\": \"content\", \"type\": \"string\"},\n",
    "        {\"name\": \"embedding\", \"type\": \"float[]\", \"num_dim\": 1024},\n",
    "    ],\n",
    "    \"enable_nested_fields\": True,\n",
    "}\n",
    "\n",
    "try:\n",
    "    typesense_client.collections[\"pdfs\"].delete()\n",
    "except Exception as e:\n",
    "    print(e)\n",
    "\n",
    "typesense_client.collections.create(schema)\n"
   ]
  },
  {
   "cell_type": "code",
   "execution_count": 69,
   "metadata": {},
   "outputs": [
    {
     "name": "stderr",
     "output_type": "stream",
     "text": [
      "\u001b[92m15:18:07 - LiteLLM:INFO\u001b[0m: utils.py:2850 - \n",
      "LiteLLM completion() model= gpt-4o; provider = openai\n",
      "INFO: \n",
      "LiteLLM completion() model= gpt-4o; provider = openai\n",
      "INFO: HTTP Request: POST https://api.openai.com/v1/chat/completions \"HTTP/1.1 200 OK\"\n",
      "\u001b[92m15:18:15 - LiteLLM:INFO\u001b[0m: utils.py:1030 - Wrapper: Completed Call, calling success_handler\n",
      "INFO: Wrapper: Completed Call, calling success_handler\n",
      "INFO: HTTP Request: POST https://api.cohere.ai/v1/embed \"HTTP/1.1 200 OK\"\n",
      "\u001b[92m15:18:15 - LiteLLM:INFO\u001b[0m: utils.py:1030 - Wrapper: Completed Call, calling success_handler\n",
      "INFO: Wrapper: Completed Call, calling success_handler\n",
      "\u001b[92m15:18:15 - LiteLLM:INFO\u001b[0m: utils.py:2850 - \n",
      "LiteLLM completion() model= gpt-4o; provider = openai\n",
      "INFO: \n",
      "LiteLLM completion() model= gpt-4o; provider = openai\n"
     ]
    },
    {
     "name": "stdout",
     "output_type": "stream",
     "text": [
      "success: True\n",
      "error: \n"
     ]
    },
    {
     "name": "stderr",
     "output_type": "stream",
     "text": [
      "INFO: HTTP Request: POST https://api.openai.com/v1/chat/completions \"HTTP/1.1 200 OK\"\n",
      "\u001b[92m15:18:26 - LiteLLM:INFO\u001b[0m: utils.py:1030 - Wrapper: Completed Call, calling success_handler\n",
      "INFO: Wrapper: Completed Call, calling success_handler\n",
      "INFO: HTTP Request: POST https://api.cohere.ai/v1/embed \"HTTP/1.1 200 OK\"\n",
      "\u001b[92m15:18:27 - LiteLLM:INFO\u001b[0m: utils.py:1030 - Wrapper: Completed Call, calling success_handler\n",
      "INFO: Wrapper: Completed Call, calling success_handler\n",
      "\u001b[92m15:18:27 - LiteLLM:INFO\u001b[0m: utils.py:2850 - \n",
      "LiteLLM completion() model= gpt-4o; provider = openai\n",
      "INFO: \n",
      "LiteLLM completion() model= gpt-4o; provider = openai\n"
     ]
    },
    {
     "name": "stdout",
     "output_type": "stream",
     "text": [
      "success: True\n",
      "error: \n"
     ]
    },
    {
     "name": "stderr",
     "output_type": "stream",
     "text": [
      "INFO: HTTP Request: POST https://api.openai.com/v1/chat/completions \"HTTP/1.1 200 OK\"\n",
      "\u001b[92m15:18:32 - LiteLLM:INFO\u001b[0m: utils.py:1030 - Wrapper: Completed Call, calling success_handler\n",
      "INFO: Wrapper: Completed Call, calling success_handler\n",
      "INFO: HTTP Request: POST https://api.cohere.ai/v1/embed \"HTTP/1.1 200 OK\"\n",
      "\u001b[92m15:18:33 - LiteLLM:INFO\u001b[0m: utils.py:1030 - Wrapper: Completed Call, calling success_handler\n",
      "INFO: Wrapper: Completed Call, calling success_handler\n",
      "\u001b[92m15:18:33 - LiteLLM:INFO\u001b[0m: utils.py:2850 - \n",
      "LiteLLM completion() model= gpt-4o; provider = openai\n",
      "INFO: \n",
      "LiteLLM completion() model= gpt-4o; provider = openai\n"
     ]
    },
    {
     "name": "stdout",
     "output_type": "stream",
     "text": [
      "success: True\n",
      "error: \n"
     ]
    },
    {
     "name": "stderr",
     "output_type": "stream",
     "text": [
      "INFO: HTTP Request: POST https://api.openai.com/v1/chat/completions \"HTTP/1.1 200 OK\"\n",
      "\u001b[92m15:18:38 - LiteLLM:INFO\u001b[0m: utils.py:1030 - Wrapper: Completed Call, calling success_handler\n",
      "INFO: Wrapper: Completed Call, calling success_handler\n",
      "INFO: HTTP Request: POST https://api.cohere.ai/v1/embed \"HTTP/1.1 200 OK\"\n",
      "\u001b[92m15:18:39 - LiteLLM:INFO\u001b[0m: utils.py:1030 - Wrapper: Completed Call, calling success_handler\n",
      "INFO: Wrapper: Completed Call, calling success_handler\n",
      "\u001b[92m15:18:39 - LiteLLM:INFO\u001b[0m: utils.py:2850 - \n",
      "LiteLLM completion() model= gpt-4o; provider = openai\n",
      "INFO: \n",
      "LiteLLM completion() model= gpt-4o; provider = openai\n"
     ]
    },
    {
     "name": "stdout",
     "output_type": "stream",
     "text": [
      "success: True\n",
      "error: \n"
     ]
    },
    {
     "name": "stderr",
     "output_type": "stream",
     "text": [
      "INFO: HTTP Request: POST https://api.openai.com/v1/chat/completions \"HTTP/1.1 200 OK\"\n",
      "\u001b[92m15:18:43 - LiteLLM:INFO\u001b[0m: utils.py:1030 - Wrapper: Completed Call, calling success_handler\n",
      "INFO: Wrapper: Completed Call, calling success_handler\n",
      "INFO: HTTP Request: POST https://api.cohere.ai/v1/embed \"HTTP/1.1 200 OK\"\n",
      "\u001b[92m15:18:44 - LiteLLM:INFO\u001b[0m: utils.py:1030 - Wrapper: Completed Call, calling success_handler\n",
      "INFO: Wrapper: Completed Call, calling success_handler\n",
      "\u001b[92m15:18:44 - LiteLLM:INFO\u001b[0m: utils.py:2850 - \n",
      "LiteLLM completion() model= gpt-4o; provider = openai\n",
      "INFO: \n",
      "LiteLLM completion() model= gpt-4o; provider = openai\n"
     ]
    },
    {
     "name": "stdout",
     "output_type": "stream",
     "text": [
      "success: True\n",
      "error: \n"
     ]
    },
    {
     "name": "stderr",
     "output_type": "stream",
     "text": [
      "INFO: HTTP Request: POST https://api.openai.com/v1/chat/completions \"HTTP/1.1 200 OK\"\n",
      "\u001b[92m15:18:49 - LiteLLM:INFO\u001b[0m: utils.py:1030 - Wrapper: Completed Call, calling success_handler\n",
      "INFO: Wrapper: Completed Call, calling success_handler\n",
      "INFO: HTTP Request: POST https://api.cohere.ai/v1/embed \"HTTP/1.1 200 OK\"\n",
      "\u001b[92m15:18:50 - LiteLLM:INFO\u001b[0m: utils.py:1030 - Wrapper: Completed Call, calling success_handler\n",
      "INFO: Wrapper: Completed Call, calling success_handler\n",
      "\u001b[92m15:18:50 - LiteLLM:INFO\u001b[0m: utils.py:2850 - \n",
      "LiteLLM completion() model= gpt-4o; provider = openai\n",
      "INFO: \n",
      "LiteLLM completion() model= gpt-4o; provider = openai\n"
     ]
    },
    {
     "name": "stdout",
     "output_type": "stream",
     "text": [
      "success: True\n",
      "error: \n"
     ]
    },
    {
     "name": "stderr",
     "output_type": "stream",
     "text": [
      "INFO: HTTP Request: POST https://api.openai.com/v1/chat/completions \"HTTP/1.1 200 OK\"\n",
      "\u001b[92m15:18:55 - LiteLLM:INFO\u001b[0m: utils.py:1030 - Wrapper: Completed Call, calling success_handler\n",
      "INFO: Wrapper: Completed Call, calling success_handler\n",
      "INFO: HTTP Request: POST https://api.cohere.ai/v1/embed \"HTTP/1.1 200 OK\"\n",
      "\u001b[92m15:18:55 - LiteLLM:INFO\u001b[0m: utils.py:1030 - Wrapper: Completed Call, calling success_handler\n",
      "INFO: Wrapper: Completed Call, calling success_handler\n",
      "\u001b[92m15:18:55 - LiteLLM:INFO\u001b[0m: utils.py:2850 - \n",
      "LiteLLM completion() model= gpt-4o; provider = openai\n",
      "INFO: \n",
      "LiteLLM completion() model= gpt-4o; provider = openai\n"
     ]
    },
    {
     "name": "stdout",
     "output_type": "stream",
     "text": [
      "success: True\n",
      "error: \n"
     ]
    },
    {
     "name": "stderr",
     "output_type": "stream",
     "text": [
      "INFO: HTTP Request: POST https://api.openai.com/v1/chat/completions \"HTTP/1.1 200 OK\"\n",
      "\u001b[92m15:19:00 - LiteLLM:INFO\u001b[0m: utils.py:1030 - Wrapper: Completed Call, calling success_handler\n",
      "INFO: Wrapper: Completed Call, calling success_handler\n",
      "INFO: HTTP Request: POST https://api.cohere.ai/v1/embed \"HTTP/1.1 200 OK\"\n",
      "\u001b[92m15:19:01 - LiteLLM:INFO\u001b[0m: utils.py:1030 - Wrapper: Completed Call, calling success_handler\n",
      "INFO: Wrapper: Completed Call, calling success_handler\n"
     ]
    },
    {
     "name": "stdout",
     "output_type": "stream",
     "text": [
      "success: True\n",
      "error: \n"
     ]
    }
   ],
   "source": [
    "# Insert key value pairs into Typesense\n",
    "\n",
    "for file_id in [\"M000093215.PDF\", \"M00093381B.PDF\", \"M000093520.PDF\", \"M00103924B.PDF\"]:\n",
    "# for file_id in [\"M000093215.PDF\"]:\n",
    "    for file_name in glob.glob(f\"data/images/{file_id}/*.png\"):\n",
    "        kv_pairs = extract_kv_pairs(file_name)\n",
    "        page_number = file_name.split(\"/\")[-1].split(\".\")[0].split(\"_\")[1]\n",
    "\n",
    "        response = typesense_client.collections[\"pdfs\"].documents.import_(\n",
    "            documents=[\n",
    "                {\n",
    "                    \"source_filename\": file_id,\n",
    "                    \"page_number\": int(page_number),\n",
    "                    \"content\": kv_pairs,\n",
    "                    \"embedding\": get_image_embedding(file_name),\n",
    "                }\n",
    "            ]\n",
    "        )\n",
    "\n",
    "        for doc in response:\n",
    "            print(\"success:\", doc[\"success\"])\n",
    "            print(\"error:\", doc.get(\"error\", \"\"))"
   ]
  },
  {
   "cell_type": "code",
   "execution_count": 71,
   "metadata": {},
   "outputs": [
    {
     "data": {
      "text/plain": [
       "{'created_at': 1737835828,\n",
       " 'default_sorting_field': '',\n",
       " 'enable_nested_fields': True,\n",
       " 'fields': [{'facet': False,\n",
       "   'index': True,\n",
       "   'infix': False,\n",
       "   'locale': '',\n",
       "   'name': 'source_filename',\n",
       "   'optional': False,\n",
       "   'sort': False,\n",
       "   'stem': False,\n",
       "   'store': True,\n",
       "   'type': 'string'},\n",
       "  {'facet': False,\n",
       "   'index': True,\n",
       "   'infix': False,\n",
       "   'locale': '',\n",
       "   'name': 'page_number',\n",
       "   'optional': False,\n",
       "   'sort': True,\n",
       "   'stem': False,\n",
       "   'store': True,\n",
       "   'type': 'int32'},\n",
       "  {'facet': False,\n",
       "   'index': True,\n",
       "   'infix': False,\n",
       "   'locale': '',\n",
       "   'name': 'content',\n",
       "   'optional': False,\n",
       "   'sort': False,\n",
       "   'stem': False,\n",
       "   'store': True,\n",
       "   'type': 'string'},\n",
       "  {'facet': False,\n",
       "   'hnsw_params': {'M': 16, 'ef_construction': 200},\n",
       "   'index': True,\n",
       "   'infix': False,\n",
       "   'locale': '',\n",
       "   'name': 'embedding',\n",
       "   'num_dim': 1024,\n",
       "   'optional': False,\n",
       "   'sort': False,\n",
       "   'stem': False,\n",
       "   'store': True,\n",
       "   'type': 'float[]',\n",
       "   'vec_dist': 'cosine'}],\n",
       " 'name': 'pdfs',\n",
       " 'num_documents': 8,\n",
       " 'symbols_to_index': [],\n",
       " 'token_separators': []}"
      ]
     },
     "execution_count": 71,
     "metadata": {},
     "output_type": "execute_result"
    }
   ],
   "source": [
    "typesense_client.collections[\"pdfs\"].retrieve()"
   ]
  },
  {
   "cell_type": "code",
   "execution_count": 76,
   "metadata": {},
   "outputs": [
    {
     "name": "stderr",
     "output_type": "stream",
     "text": [
      "INFO: HTTP Request: POST https://api.cohere.ai/v1/embed \"HTTP/1.1 200 OK\"\n",
      "\u001b[92m15:32:25 - LiteLLM:INFO\u001b[0m: utils.py:1030 - Wrapper: Completed Call, calling success_handler\n",
      "INFO: Wrapper: Completed Call, calling success_handler\n"
     ]
    },
    {
     "data": {
      "text/plain": [
       "{'results': [{'facet_counts': [],\n",
       "   'found': 4,\n",
       "   'hits': [{'document': {'content': '- Borough: Manhattan\\n- Date: Nov 29 1986\\n- Zoning District: C6-6,5\\n- 57th Street Wing Cellar, Live Load: O.G.\\n- 57th Street Wing Cellar, Building Units: 260\\n- 57th Street Wing Cellar, Description of Use: Cinema\\n- 57th Street Wing Cellar, Description of Use: Offices\\n- 57th Street Wing Cellar, Description of Use: Elevator Machine Room\\n- 57th Street Wing Cellar, Description of Use: Gallery\\n- 57th Street Wing Cellar, Description of Use: Mechanical Room\\n- 57th Street Wing Cellar, Description of Use: Storage\\n- 57th Street Wing Cellar Mezzanine, Building Units: 4\\n- 57th Street Wing Cellar Mezzanine, Description of Use: Mechanical Room\\n- 57th Street Wing Cellar Mezzanine, Description of Use: Office\\n- 57th Street Wing Cellar Mezzanine, Description of Use: Locker Room, Elevator\\n- 57th Street Wing Cellar Mezzanine, Description of Use: Machine Room, Storage\\n- 57th Street Wing 1st Floor, Live Load: 85\\n- 57th Street Wing 1st Floor, Building Units: 1,021\\n- 57th Street Wing 1st Floor, Description of Use: Carnegie Concert Hall\\n- 57th Street Wing 1st Floor, Description of Use: Trap Room\\n- 57th Street Wing 1st Floor, Description of Use: Lobbies\\n- 57th Street Wing 1st Floor, Description of Use: Carnegie Hall Lounge and Bar\\n- 57th Street Wing 2nd Floor, Live Load: 85\\n- 57th Street Wing 2nd Floor, Building Units: 350\\n- 57th Street Wing 2nd Floor, Description of Use: 1st Tier Boxes of Carnegie Concert Hall, Recital Hall\\n- 57th Street Wing 2nd Floor, Description of Use: Lounge and Dress Rooms\\n- 57th Street Wing 3rd Floor, Live Load: 85\\n- 57th Street Wing 3rd Floor, Building Units: 248\\n- 57th Street Wing 3rd Floor, Building Units: 299\\n- 57th Street Wing 3rd Floor, Description of Use: 2nd Tier Boxes of Carnegie Concert Hall, Recital Hall\\n- 57th Street Wing Balcony, Live Load: 85\\n- 57th Street Wing Balcony, Description of Use: Recital Hall Balcony\\n- 57th Street Wing 4th Floor, Live Load: 85\\n- 57th Street Wing 4th Floor, Building Units: 430\\n- 57th Street Wing 4th Floor, Building Units: 16\\n- 57th Street Wing 4th Floor, Description of Use: Dress Circle of Carnegie Hall, Lounge\\n- 57th Street Wing 5th Floor, Live Load: 85\\n- 57th Street Wing 5th Floor, Building Units: 568\\n- 57th Street Wing 5th Floor, Description of Use: Balcony of Carnegie Concert Hall, Balcony Lobby',\n",
       "      'id': '11',\n",
       "      'page_number': 1,\n",
       "      'source_filename': 'M000093215.PDF'},\n",
       "     'highlight': {'content': {'matched_tokens': ['Borough', '1986'],\n",
       "       'snippet': '<mark>Borough</mark>: Manhattan\\n- Date: Nov 29 <mark>1986</mark>\\n- Zoning District: C6-6,5\\n- 57th'}},\n",
       "     'highlights': [{'field': 'content',\n",
       "       'matched_tokens': ['Borough', '1986'],\n",
       "       'snippet': '<mark>Borough</mark>: Manhattan\\n- Date: Nov 29 <mark>1986</mark>\\n- Zoning District: C6-6,5\\n- 57th'}],\n",
       "     'hybrid_search_info': {'rank_fusion_score': 0.7000000476837158},\n",
       "     'text_match': 1058642330,\n",
       "     'text_match_info': {'best_field_score': '516915',\n",
       "      'best_field_weight': 51,\n",
       "      'fields_matched': 2,\n",
       "      'num_tokens_dropped': 7,\n",
       "      'score': '1058642330',\n",
       "      'tokens_matched': 0,\n",
       "      'typo_prefix_score': 255},\n",
       "     'vector_distance': 0.7605623602867126},\n",
       "    {'document': {'content': \"- Distant: West 57th street\\n- Intersection: Seventh Avenue\\n- Running thence south: 200.10 feet\\n- Thence north: 200.10 feet\\n- Thence south: 200 feet\\n- Thence north: 200 feet\\n- Job number: 1509/85\\n- Date of completion: \\n- Building occupancy group classification: Public Building\\n- Height stories: 8-12 & 16\\n- Height feet: 110', 185' & 209'\\n- Construction classification: Class 1-Fireproof\\n- Standpipe system: Yes\\n- Automatic sprinkler system: Yes\\n- Yard hydrant system: No\\n- Standpipe fire telephone and signalling system: Yes\\n- Smoke detector: Yes\\n- Fire alarm and signal system: Yes\\n- Storm drainage discharges into storm sewer: \\n- Sanitary drainage discharges into sanitary sewer: \",\n",
       "      'id': '12',\n",
       "      'page_number': 2,\n",
       "      'source_filename': 'M00093381B.PDF'},\n",
       "     'highlight': {},\n",
       "     'highlights': [],\n",
       "     'hybrid_search_info': {'rank_fusion_score': 0.4000000059604645},\n",
       "     'text_match': 0,\n",
       "     'text_match_info': {'best_field_score': '0',\n",
       "      'best_field_weight': 0,\n",
       "      'fields_matched': 0,\n",
       "      'num_tokens_dropped': 7,\n",
       "      'score': '0',\n",
       "      'tokens_matched': 0,\n",
       "      'typo_prefix_score': 255},\n",
       "     'vector_distance': 0.7530497312545776},\n",
       "    {'document': {'content': \"- BEGINNING at a point on the: SOUTH\\n- West 57th STREET: distant\\n- Seventh AVENUE: and\\n- Running thence SOUTH: 200.10'\\n- North: 200.10'\\n- East: feet\\n- North: 200'\\n- ALT No.: 1509/85\\n- DATE OF COMPLETION: \\n- BUILDING OCCUPANCY GROUP CLASSIFICATION: PUBLIC BUILDING\\n- HEIGHT STORIES: 8-12\\n- HEIGHT FEET: 110', 185' & 209'\\n- CONSTRUCTION CLASSIFICATION CLASS: 1-FIREPRO\\n- STANDPIPE SYSTEM: Yes\\n- AUTOMATIC SPRINKLER SYSTEM: No\\n- YARD HYDRANT SYSTEM: \\n- STANDPIPE FIRE TELEPHONE AND SIGNALLING SYSTEM: X\\n- SMOKE DETECTOR: X\\n- FIRE ALARM AND SIGNAL SYSTEM: X\\n- STORM DRAINAGE DISCHARGES INTO A) STORM SEWER: \\n- STORM DRAINAGE DISCHARGES INTO B) COMBINED SEWER: \\n- STORM DRAINAGE DISCHARGES INTO C) PRIVATE SEWAGE DISPOSAL SYSTEM: \\n- SANITARY DRAINAGE DISCHARGES INTO A) SANITARY SEWER: \\n- SANITARY DRAINAGE DISCHARGES INTO B) COMBINED SEWER: \\n- SANITARY DRAINAGE DISCHARGES INTO C) PRIVATE SEWAGE DISPOSAL SYSTEM: \\n- BOARD OF STANDARDS AND APPEALS CAL. NO.: \\n- CITY PLANNING COMMISSION CAL. NO.: \\n- OTHERS: \",\n",
       "      'id': '10',\n",
       "      'page_number': 2,\n",
       "      'source_filename': 'M000093215.PDF'},\n",
       "     'highlight': {'content': {'matched_tokens': ['the'],\n",
       "       'snippet': 'at a point on <mark>the</mark>: SOUTH\\n- West 57th STREET:'}},\n",
       "     'highlights': [{'field': 'content',\n",
       "       'matched_tokens': ['the'],\n",
       "       'snippet': 'at a point on <mark>the</mark>: SOUTH\\n- West 57th STREET:'}],\n",
       "     'hybrid_search_info': {'rank_fusion_score': 0.20000000298023224},\n",
       "     'text_match': 0,\n",
       "     'text_match_info': {'best_field_score': '0',\n",
       "      'best_field_weight': 0,\n",
       "      'fields_matched': 0,\n",
       "      'num_tokens_dropped': 7,\n",
       "      'score': '0',\n",
       "      'tokens_matched': 0,\n",
       "      'typo_prefix_score': 255},\n",
       "     'vector_distance': 0.75704026222229},\n",
       "    {'document': {'content': '* Borough: Manhattan\\n* Date: [Blank]\\n* No.: 94363\\n* Zoning District: C6-6.5\\n* 57th Street Wing:\\n  * Cellar O.G.: 260\\n    * Cinema\\n    * Offices\\n    * Elevator machine room\\n    * Gallery\\n    * Mechanical room\\n    * Storage\\n  * Cellar 4: \\n    * Mechanical room\\n    * Office\\n    * Locker room, elevator\\n  * Cellar 20:\\n    * Machine room, storage\\n  * 1st Floor 85: 1,021\\n    * Carnegie concert hall\\n    * Scrap room\\n    * Lobbies\\n    * Carnegie hall lounge and bar\\n  * 2nd Floor 85: 350\\n    * 1st Tier boxes of Carnegie concert hall\\n    * Recital hall\\n    * Lounge and dress rooms\\n  * 3rd Floor 85: 248, 299\\n    * 2nd Tier boxes of Carnegie concert hall\\n    * Recital hall\\n  * Balcony 85:\\n    * Recital hall balcony\\n  * 4th Floor 85: 430, 10\\n    * Dress circle of Carnegie Hall\\n    * Lounge\\n  * Balcony 4th Floor 85: \\n    * Balcony of Carnegie concert hall, balcony lobby',\n",
       "      'id': '13',\n",
       "      'page_number': 1,\n",
       "      'source_filename': 'M00093381B.PDF'},\n",
       "     'highlight': {'content': {'matched_tokens': ['Borough'],\n",
       "       'snippet': '<mark>Borough</mark>: Manhattan\\n* Date: [Blank]\\n* No.:'}},\n",
       "     'highlights': [{'field': 'content',\n",
       "       'matched_tokens': ['Borough'],\n",
       "       'snippet': '<mark>Borough</mark>: Manhattan\\n* Date: [Blank]\\n* No.:'}],\n",
       "     'hybrid_search_info': {'rank_fusion_score': 0.13333334028720856},\n",
       "     'text_match': 0,\n",
       "     'text_match_info': {'best_field_score': '0',\n",
       "      'best_field_weight': 0,\n",
       "      'fields_matched': 0,\n",
       "      'num_tokens_dropped': 7,\n",
       "      'score': '0',\n",
       "      'tokens_matched': 0,\n",
       "      'typo_prefix_score': 255},\n",
       "     'vector_distance': 0.760223925113678}],\n",
       "   'out_of': 8,\n",
       "   'page': 1,\n",
       "   'request_params': {'collection_name': 'pdfs',\n",
       "    'first_q': 'What borough is the property in 1986?',\n",
       "    'per_page': 25,\n",
       "    'q': 'What borough is the property in 1986?'},\n",
       "   'search_cutoff': False,\n",
       "   'search_time_ms': 4}]}"
      ]
     },
     "execution_count": 76,
     "metadata": {},
     "output_type": "execute_result"
    }
   ],
   "source": [
    "query = \"What borough is the property in 1986?\"\n",
    "\n",
    "def gather_query_context(query: str):\n",
    "  embedding_str = ','.join(str(v) for v in embedding(\n",
    "    model=\"cohere/embed-english-v3.0\", \n",
    "    input=[query]\n",
    "  ).data[0][\"embedding\"])\n",
    "\n",
    "  searches = {\n",
    "    \"searches\": [\n",
    "      {\n",
    "        \"query_by\": \"content\",\n",
    "        \"q\": query,\n",
    "        \"exclude_fields\": \"embedding\"\n",
    "      }\n",
    "    ]\n",
    "  }\n",
    "\n",
    "  search_parameters = {\n",
    "    \"collection\": \"pdfs\",\n",
    "    \"vector_query\": f\"embedding:([{embedding_str}], alpha: 0.4, k: 4)\",\n",
    "    \"per_page\": 25,\n",
    "  }\n",
    "\n",
    "  results = typesense_client.multi_search.perform(searches, search_parameters)\n",
    "\n",
    "  return results\n",
    "\n",
    "gather_query_context(query)\n"
   ]
  },
  {
   "cell_type": "code",
   "execution_count": null,
   "metadata": {},
   "outputs": [],
   "source": []
  },
  {
   "cell_type": "code",
   "execution_count": 78,
   "metadata": {},
   "outputs": [
    {
     "name": "stderr",
     "output_type": "stream",
     "text": [
      "INFO: HTTP Request: POST https://api.cohere.ai/v1/embed \"HTTP/1.1 200 OK\"\n",
      "\u001b[92m15:39:58 - LiteLLM:INFO\u001b[0m: utils.py:1030 - Wrapper: Completed Call, calling success_handler\n",
      "INFO: Wrapper: Completed Call, calling success_handler\n",
      "\u001b[92m15:39:58 - LiteLLM:INFO\u001b[0m: utils.py:2850 - \n",
      "LiteLLM completion() model= gpt-4o; provider = openai\n",
      "INFO: \n",
      "LiteLLM completion() model= gpt-4o; provider = openai\n",
      "INFO: HTTP Request: POST https://api.openai.com/v1/chat/completions \"HTTP/1.1 200 OK\"\n",
      "\u001b[92m15:40:02 - LiteLLM:INFO\u001b[0m: utils.py:1030 - Wrapper: Completed Call, calling success_handler\n",
      "INFO: Wrapper: Completed Call, calling success_handler\n"
     ]
    },
    {
     "name": "stdout",
     "output_type": "stream",
     "text": [
      "The first floor is used for:\n",
      "\n",
      "- Carnegie Concert Hall\n",
      "- Trap Room\n",
      "- Lobbies\n",
      "- Carnegie Hall Lounge and Bar\n"
     ]
    }
   ],
   "source": [
    "# Synthesize query using retrieved results\n",
    "def synthesize_query(query: str):\n",
    "    # Get context\n",
    "    context = gather_query_context(query)\n",
    "    base64_images = []\n",
    "    \n",
    "    # Get images from context\n",
    "    for result in context[\"results\"][0][\"hits\"]:\n",
    "        image_base64 = image_to_base64(\n",
    "            f\"data/images/{result['document']['source_filename']}/page_{result['document']['page_number']}.png\"\n",
    "        )\n",
    "\n",
    "        base64_images.append(image_base64)\n",
    "\n",
    "    # Respond to query using images\n",
    "    image_query_response = completion(\n",
    "        model=model,\n",
    "        # response_format={\"type\": \"json_object\"},\n",
    "        messages=[\n",
    "            {\"role\": \"system\", \"content\": \"Attempt to answer the following query using the following images\"},\n",
    "            {\"role\": \"user\", \"content\": f\"Query: {query}\"},\n",
    "            {\n",
    "                \"role\": \"user\",\n",
    "                \"content\": [\n",
    "                    {\n",
    "                        \"type\": \"image_url\",\n",
    "                        \"image_url\": {\n",
    "                            \"url\": f\"data:image/jpeg;base64,{base64_image}\"\n",
    "                        }\n",
    "                    } for base64_image in base64_images\n",
    "                ]\n",
    "            }\n",
    "        ],\n",
    "    )\n",
    "\n",
    "    # return json.loads(image_query_response.choices[0].message.content)\n",
    "    return image_query_response.choices[0].message.content\n",
    "\n",
    "print(synthesize_query(\"What is the first floor used for?\"))\n"
   ]
  }
 ],
 "metadata": {
  "kernelspec": {
   "display_name": ".venv",
   "language": "python",
   "name": "python3"
  },
  "language_info": {
   "codemirror_mode": {
    "name": "ipython",
    "version": 3
   },
   "file_extension": ".py",
   "mimetype": "text/x-python",
   "name": "python",
   "nbconvert_exporter": "python",
   "pygments_lexer": "ipython3",
   "version": "3.12.7"
  }
 },
 "nbformat": 4,
 "nbformat_minor": 2
}
